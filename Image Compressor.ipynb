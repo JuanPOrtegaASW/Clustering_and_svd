{
 "cells": [
  {
   "cell_type": "code",
   "execution_count": 93,
   "metadata": {
    "colab": {
     "base_uri": "https://localhost:8080/"
    },
    "id": "TDVxdgEZF2c6",
    "outputId": "bddbec35-61ec-4548-8617-e53f5f656d30"
   },
   "outputs": [
    {
     "name": "stdout",
     "output_type": "stream",
     "text": [
      "2.10.0\n"
     ]
    }
   ],
   "source": [
    "from __future__ import absolute_import, division, print_function, unicode_literals\n",
    "\n",
    "import numpy as np                   # advanced math library\n",
    "import matplotlib.pyplot as plt \n",
    "import seaborn as sns     # MATLAB like plotting routines\n",
    "import random                        # for generating random numbers\n",
    "#\n",
    "from sklearn.decomposition import PCA\n",
    "from sklearn.manifold import MDS\n",
    "from sklearn.manifold import TSNE\n",
    "from sklearn.cluster import KMeans\n",
    "#\n",
    "import os\n",
    "#\n",
    "import pandas as pd\n",
    "import tensorflow as tf\n",
    "#\n",
    "from tensorflow.keras.models import Model\n",
    "#\n",
    "from tensorflow.keras.layers import Dense, Flatten, Input, Activation\n",
    "from tensorflow.keras.preprocessing.image import ImageDataGenerator\n",
    "#\n",
    "from tensorflow.keras.utils import to_categorical\n",
    "from tensorflow.keras.utils import plot_model\n",
    "#\n",
    "from sklearn.preprocessing import StandardScaler\n",
    "from sklearn.metrics import confusion_matrix\n",
    "from sklearn.svm import LinearSVC\n",
    "from sklearn.model_selection import train_test_split\n",
    "\n",
    "from PIL import Image as im\n",
    "\n",
    "#\n",
    "print(tf.__version__)\n",
    "\n",
    "from keras.datasets import mnist     # MNIST dataset is included in Keras\n",
    "from keras.models import Sequential  # Model type to be used\n",
    "\n",
    "\n",
    "from keras.layers.core import Dense, Dropout, Activation # Types of layers to be used in our model\n",
    "from keras.utils import np_utils      "
   ]
  },
  {
   "cell_type": "code",
   "execution_count": 2,
   "metadata": {},
   "outputs": [],
   "source": [
    "train_dir = \"food_images/validation\"\n",
    "test_dir  = \"food_images/evaluation\"\n",
    "\n",
    "target_size = (224,224)\n",
    "batch_size = 1"
   ]
  },
  {
   "cell_type": "code",
   "execution_count": 3,
   "metadata": {},
   "outputs": [
    {
     "name": "stdout",
     "output_type": "stream",
     "text": [
      "Found 3430 images belonging to 11 classes.\n"
     ]
    }
   ],
   "source": [
    "# Data Generator\n",
    "train_datagen = ImageDataGenerator(\n",
    "#    rotation_range=40,\n",
    "#    width_shift_range=0.2,\n",
    "#    height_shift_range=0.2,\n",
    "#    shear_range=0.2,\n",
    "#    zoom_range=0.2,\n",
    "#    horizontal_flip=True,\n",
    "#    vertical_flip=True\n",
    ")\n",
    "\n",
    "train_generator = train_datagen.flow_from_directory(\n",
    "    train_dir,\n",
    "    target_size=target_size,\n",
    "    batch_size=batch_size,\n",
    "    color_mode='rgb',    \n",
    "    shuffle=True,\n",
    "    seed=42,\n",
    "    class_mode='sparse')"
   ]
  },
  {
   "cell_type": "code",
   "execution_count": null,
   "metadata": {},
   "outputs": [],
   "source": []
  },
  {
   "cell_type": "code",
   "execution_count": 4,
   "metadata": {},
   "outputs": [
    {
     "name": "stdout",
     "output_type": "stream",
     "text": [
      "Found 3347 images belonging to 11 classes.\n"
     ]
    }
   ],
   "source": [
    "test_datagen = ImageDataGenerator()\n",
    "\n",
    "test_generator = test_datagen.flow_from_directory(\n",
    "    test_dir,\n",
    "    target_size=target_size,\n",
    "    batch_size=batch_size,\n",
    "    color_mode='rgb',\n",
    "    shuffle=False,    \n",
    "    class_mode='sparse')"
   ]
  },
  {
   "cell_type": "code",
   "execution_count": 5,
   "metadata": {
    "id": "RhynN5PI8hZH"
   },
   "outputs": [],
   "source": [
    "images = np.zeros((len(train_generator),target_size[0],target_size[1],3))\n",
    "for i in np.arange(0,len(train_generator)):\n",
    "    images[i,:] = train_generator[i][0]"
   ]
  },
  {
   "cell_type": "code",
   "execution_count": 6,
   "metadata": {},
   "outputs": [],
   "source": [
    "images = images.astype(np.uint8)"
   ]
  },
  {
   "cell_type": "code",
   "execution_count": 7,
   "metadata": {
    "scrolled": true
   },
   "outputs": [
    {
     "data": {
      "text/plain": [
       "array([[[151, 145, 145],\n",
       "        [ 35,  25,  23],\n",
       "        [ 39,  21,  17],\n",
       "        ...,\n",
       "        [130, 122, 111],\n",
       "        [149, 143, 131],\n",
       "        [141, 135, 123]],\n",
       "\n",
       "       [[166, 162, 163],\n",
       "        [ 71,  63,  61],\n",
       "        [ 33,  19,  16],\n",
       "        ...,\n",
       "        [133, 125, 114],\n",
       "        [145, 137, 126],\n",
       "        [140, 132, 121]],\n",
       "\n",
       "       [[183, 183, 185],\n",
       "        [166, 162, 163],\n",
       "        [ 29,  19,  18],\n",
       "        ...,\n",
       "        [144, 134, 124],\n",
       "        [135, 125, 115],\n",
       "        [143, 130, 121]],\n",
       "\n",
       "       ...,\n",
       "\n",
       "       [[ 15,  14,  19],\n",
       "        [ 13,  12,  17],\n",
       "        [  9,   8,  13],\n",
       "        ...,\n",
       "        [160, 104,  53],\n",
       "        [156, 103,  49],\n",
       "        [159, 106,  52]],\n",
       "\n",
       "       [[ 16,  15,  20],\n",
       "        [ 15,  14,  19],\n",
       "        [  9,   8,  13],\n",
       "        ...,\n",
       "        [159, 103,  54],\n",
       "        [162, 106,  55],\n",
       "        [161, 106,  52]],\n",
       "\n",
       "       [[ 15,  14,  19],\n",
       "        [ 15,  14,  19],\n",
       "        [  8,   7,  12],\n",
       "        ...,\n",
       "        [159, 103,  56],\n",
       "        [166, 110,  61],\n",
       "        [164, 107,  54]]], dtype=uint8)"
      ]
     },
     "execution_count": 7,
     "metadata": {},
     "output_type": "execute_result"
    }
   ],
   "source": [
    "images[0]"
   ]
  },
  {
   "cell_type": "code",
   "execution_count": 118,
   "metadata": {},
   "outputs": [],
   "source": [
    "def ImageCompressor(array, tolerance):\n",
    "    a = np.zeros(np.shape(array))\n",
    "    for i in np.arange(0,3):\n",
    "        u, s,v = np.linalg.svd(array[:,:,i], full_matrices=False)\n",
    "        s = np.diag(s)\n",
    "        to_cut = int(tolerance*np.shape(s)[0])\n",
    "        #print(np.shape(u),np.shape(s),np.shape(v))\n",
    "        u = u[:,:-to_cut]\n",
    "        s = s[:-to_cut,:-to_cut]\n",
    "        v = v[:-to_cut,:]\n",
    "        #print(np.shape(u),np.shape(s),np.shape(v))\n",
    "        a[:,:,i] = u @ s @ v\n",
    "    a = np.clip(a,0,255)\n",
    "    a = a.astype(np.uint8)\n",
    "    new_img = im.fromarray(a)\n",
    "    new_img.save('compressed_img.jpg')\n",
    "    return a"
   ]
  },
  {
   "cell_type": "code",
   "execution_count": 114,
   "metadata": {},
   "outputs": [
    {
     "name": "stdout",
     "output_type": "stream",
     "text": [
      "479404\n"
     ]
    }
   ],
   "source": [
    "img = im.open(\"full_hd_image.jpg\")\n",
    "hd_image = np.asarray(img)\n",
    "#print(os.stat(\"full_hd_image.jpg\").st_size)"
   ]
  },
  {
   "cell_type": "code",
   "execution_count": 117,
   "metadata": {
    "scrolled": true
   },
   "outputs": [],
   "source": [
    "result = ImageCompressor(hd_image,0.80)"
   ]
  },
  {
   "cell_type": "code",
   "execution_count": null,
   "metadata": {},
   "outputs": [],
   "source": []
  }
 ],
 "metadata": {
  "colab": {
   "provenance": []
  },
  "kernelspec": {
   "display_name": "Python 3 (ipykernel)",
   "language": "python",
   "name": "python3"
  },
  "language_info": {
   "codemirror_mode": {
    "name": "ipython",
    "version": 3
   },
   "file_extension": ".py",
   "mimetype": "text/x-python",
   "name": "python",
   "nbconvert_exporter": "python",
   "pygments_lexer": "ipython3",
   "version": "3.10.9"
  }
 },
 "nbformat": 4,
 "nbformat_minor": 1
}
