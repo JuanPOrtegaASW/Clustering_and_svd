{
 "cells": [
  {
   "cell_type": "code",
   "execution_count": 4,
   "metadata": {
    "colab": {
     "base_uri": "https://localhost:8080/"
    },
    "id": "TDVxdgEZF2c6",
    "outputId": "bddbec35-61ec-4548-8617-e53f5f656d30"
   },
   "outputs": [
    {
     "name": "stdout",
     "output_type": "stream",
     "text": [
      "2.10.0\n"
     ]
    }
   ],
   "source": [
    "from __future__ import absolute_import, division, print_function, unicode_literals\n",
    "\n",
    "import numpy as np                   # advanced math library\n",
    "import matplotlib.pyplot as plt \n",
    "import seaborn as sns     # MATLAB like plotting routines\n",
    "import random                        # for generating random numbers\n",
    "#\n",
    "from sklearn.decomposition import PCA\n",
    "from sklearn.manifold import MDS\n",
    "from sklearn.manifold import TSNE\n",
    "from sklearn.cluster import KMeans\n",
    "#\n",
    "import os\n",
    "#\n",
    "import pandas as pd\n",
    "import tensorflow as tf\n",
    "#\n",
    "from tensorflow.keras.models import Model\n",
    "#\n",
    "from tensorflow.keras.layers import Dense, Flatten, Input, Activation\n",
    "from tensorflow.keras.preprocessing.image import ImageDataGenerator\n",
    "#\n",
    "from tensorflow.keras.utils import to_categorical\n",
    "from tensorflow.keras.utils import plot_model\n",
    "#\n",
    "from sklearn.preprocessing import StandardScaler\n",
    "from sklearn.metrics import confusion_matrix\n",
    "from sklearn.svm import LinearSVC\n",
    "from sklearn.model_selection import train_test_split\n",
    "\n",
    "from PIL import Image as im\n",
    "\n",
    "#\n",
    "print(tf.__version__)\n",
    "\n",
    "from keras.datasets import mnist     # MNIST dataset is included in Keras\n",
    "from keras.models import Sequential  # Model type to be used\n",
    "\n",
    "\n",
    "from keras.layers.core import Dense, Dropout, Activation # Types of layers to be used in our model\n",
    "from keras.utils import np_utils      "
   ]
  },
  {
   "cell_type": "code",
   "execution_count": 8,
   "metadata": {},
   "outputs": [],
   "source": [
    "def ImageCompressor(array, tolerance):\n",
    "    a = np.zeros(np.shape(array))\n",
    "    for i in np.arange(0,3):\n",
    "        u, s,v = np.linalg.svd(array[:,:,i], full_matrices=False)\n",
    "        s = np.diag(s)\n",
    "        to_cut = int(tolerance*np.shape(s)[0])\n",
    "        #print(np.shape(u),np.shape(s),np.shape(v))\n",
    "        u = u[:,:-to_cut]\n",
    "        s = s[:-to_cut,:-to_cut]\n",
    "        v = v[:-to_cut,:]\n",
    "        #print(np.shape(u),np.shape(s),np.shape(v))\n",
    "        a[:,:,i] = u @ s @ v\n",
    "    a = np.clip(a,0,255)\n",
    "    a = a.astype(np.uint8)\n",
    "    new_img = im.fromarray(a)\n",
    "    new_img.save('compressed_img-at_80_%.jpg')\n",
    "    return a"
   ]
  },
  {
   "cell_type": "code",
   "execution_count": 9,
   "metadata": {},
   "outputs": [],
   "source": [
    "img = im.open(\"full_hd_image.jpg\")\n",
    "hd_image = np.asarray(img)\n",
    "#print(os.stat(\"full_hd_image.jpg\").st_size)"
   ]
  },
  {
   "cell_type": "code",
   "execution_count": 10,
   "metadata": {
    "scrolled": true
   },
   "outputs": [],
   "source": [
    "result = ImageCompressor(hd_image,0.80)"
   ]
  },
  {
   "cell_type": "code",
   "execution_count": null,
   "metadata": {},
   "outputs": [],
   "source": []
  }
 ],
 "metadata": {
  "colab": {
   "provenance": []
  },
  "kernelspec": {
   "display_name": "Python 3 (ipykernel)",
   "language": "python",
   "name": "python3"
  },
  "language_info": {
   "codemirror_mode": {
    "name": "ipython",
    "version": 3
   },
   "file_extension": ".py",
   "mimetype": "text/x-python",
   "name": "python",
   "nbconvert_exporter": "python",
   "pygments_lexer": "ipython3",
   "version": "3.10.9"
  }
 },
 "nbformat": 4,
 "nbformat_minor": 1
}
