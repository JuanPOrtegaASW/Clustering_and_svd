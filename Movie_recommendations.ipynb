{
 "cells": [
  {
   "cell_type": "code",
   "execution_count": 1,
   "id": "422597b5",
   "metadata": {},
   "outputs": [
    {
     "name": "stdout",
     "output_type": "stream",
     "text": [
      "2.10.0\n"
     ]
    }
   ],
   "source": [
    "import numpy as np                   # advanced math library\n",
    "import matplotlib.pyplot as plt \n",
    "import seaborn as sns     # MATLAB like plotting routines\n",
    "import random                        # for generating random numbers\n",
    "#\n",
    "from sklearn.decomposition import PCA\n",
    "from sklearn.manifold import MDS\n",
    "from sklearn.manifold import TSNE\n",
    "from sklearn.cluster import KMeans\n",
    "#\n",
    "import os\n",
    "#\n",
    "import pandas as pd\n",
    "import tensorflow as tf\n",
    "#\n",
    "from tensorflow.keras.models import Model\n",
    "#\n",
    "from tensorflow.keras.layers import Dense, Flatten, Input, Activation\n",
    "from tensorflow.keras.preprocessing.image import ImageDataGenerator\n",
    "#\n",
    "from tensorflow.keras.utils import to_categorical\n",
    "from tensorflow.keras.utils import plot_model\n",
    "#\n",
    "from sklearn.preprocessing import StandardScaler\n",
    "from sklearn.metrics import confusion_matrix\n",
    "from sklearn.svm import LinearSVC\n",
    "from sklearn.model_selection import train_test_split\n",
    "\n",
    "from PIL import Image as im\n",
    "#\n",
    "import scipy.sparse\n",
    "#\n",
    "print(tf.__version__)\n",
    "\n",
    "from keras.datasets import mnist     # MNIST dataset is included in Keras\n",
    "from keras.models import Sequential  # Model type to be used\n",
    "\n",
    "\n",
    "from keras.layers.core import Dense, Dropout, Activation # Types of layers to be used in our model\n",
    "from keras.utils import np_utils      "
   ]
  },
  {
   "cell_type": "code",
   "execution_count": 2,
   "id": "132fd57e",
   "metadata": {},
   "outputs": [
    {
     "name": "stdout",
     "output_type": "stream",
     "text": [
      "['format', 'shape', 'data', 'row', 'col']\n"
     ]
    }
   ],
   "source": [
    "b = np.load('movie_recommend.npz')\n",
    "print(b.files)"
   ]
  },
  {
   "cell_type": "code",
   "execution_count": 3,
   "id": "28983fa6",
   "metadata": {},
   "outputs": [
    {
     "name": "stdout",
     "output_type": "stream",
     "text": [
      "[5 5 5 ... 4 4 5]\n"
     ]
    }
   ],
   "source": [
    "print(b['data']) #data = 1000209"
   ]
  },
  {
   "cell_type": "code",
   "execution_count": 4,
   "id": "fd5528c8",
   "metadata": {},
   "outputs": [
    {
     "name": "stdout",
     "output_type": "stream",
     "text": [
      "Claves disponibles en el archivo de títulos: ['titles']\n",
      "Claves disponibles en el archivo de recomendaciones de películas: ['format', 'shape', 'data', 'row', 'col']\n"
     ]
    }
   ],
   "source": [
    "# Carga el archivo .npz\n",
    "archive_title_npz = np.load('movie_titles.npz')\n",
    "archive_movie_npz= np.load('movie_recommend.npz')\n",
    "\n",
    "# Claves disponibles en el archivo de títulos\n",
    "print(\"Claves disponibles en el archivo de títulos:\", archive_title_npz.files)\n",
    "\n",
    "# claves disponibles en el archivo de recomendaciones de películas\n",
    "print(\"Claves disponibles en el archivo de recomendaciones de películas:\", archive_movie_npz.files)\n",
    "\n",
    "# Obtiene el array de títulos\n",
    "title_array = archive_title_npz['titles']"
   ]
  },
  {
   "cell_type": "code",
   "execution_count": 5,
   "id": "05b4c022",
   "metadata": {},
   "outputs": [
    {
     "data": {
      "text/plain": [
       "3706"
      ]
     },
     "execution_count": 5,
     "metadata": {},
     "output_type": "execute_result"
    }
   ],
   "source": [
    "len(title_array)"
   ]
  },
  {
   "cell_type": "code",
   "execution_count": 6,
   "id": "ce75ff25",
   "metadata": {},
   "outputs": [],
   "source": [
    "sparse_matrix = scipy.sparse.load_npz('movie_recommend.npz')"
   ]
  },
  {
   "cell_type": "code",
   "execution_count": 7,
   "id": "4eee6006",
   "metadata": {},
   "outputs": [
    {
     "data": {
      "text/plain": [
       "<6040x3706 sparse matrix of type '<class 'numpy.int8'>'\n",
       "\twith 1000209 stored elements in COOrdinate format>"
      ]
     },
     "execution_count": 7,
     "metadata": {},
     "output_type": "execute_result"
    }
   ],
   "source": [
    "sparse_matrix #6040 users and 3706 movies"
   ]
  },
  {
   "cell_type": "code",
   "execution_count": 8,
   "id": "aed06207",
   "metadata": {},
   "outputs": [],
   "source": [
    "sparse_matrix = sparse_matrix.toarray()"
   ]
  },
  {
   "cell_type": "code",
   "execution_count": 9,
   "id": "e62e3501",
   "metadata": {},
   "outputs": [],
   "source": [
    "def recommend_system(sdata):\n",
    "    sdata = sdata.astype(np.float64)\n",
    "    tolerance = 0.9\n",
    "    u, s,v = np.linalg.svd(sdata, full_matrices=False)\n",
    "    s = np.diag(s)\n",
    "    to_cut = int(tolerance*np.shape(s)[0])\n",
    "    #print(np.shape(u),np.shape(s),np.shape(v))\n",
    "    u = u[:,:-to_cut]\n",
    "    s = s[:-to_cut,:-to_cut]\n",
    "    v = v[:-to_cut,:]\n",
    "    #print(np.shape(u),np.shape(s),np.shape(v))\n",
    "    a = u @ s @ v\n",
    "    return a"
   ]
  },
  {
   "cell_type": "code",
   "execution_count": 10,
   "id": "2d87f00e",
   "metadata": {},
   "outputs": [],
   "source": [
    "def recommend_me(users): #I tried to vectorize it but for some reason it changed the suggetions, so \n",
    "    #I guess I screw it up in some part of this cell\n",
    "    system = recommend_system(sparse_matrix)\n",
    "    scores = np.zeros((len(users),np.shape(system)[1]))\n",
    "    known_taste = sparse_matrix[users,:]\n",
    "    not_seen_movies = (known_taste==0) #get which movies the users have not seen\n",
    "    scores = np.multiply(not_seen_movies,system[users])\n",
    "    print(np.shape(scores))\n",
    "    top_ind = np.argpartition(scores, -3,axis=1)[:,-3:] #get top 3 suggestions\n",
    "    max_score = np.max(scores,axis=1)\n",
    "    print(max_score)\n",
    "    for user in np.arange(0,np.shape(top_ind)[0]): #double for just for printing\n",
    "        for movie_ind in np.arange(0,np.shape(top_ind)[1]):\n",
    "             movie = top_ind[user,movie_ind]\n",
    "             percentage = \"{0:.0%}\".format(scores[user,movie]/max_score[user])\n",
    "             print('User', users[user], ', we are', percentage, 'sure you will like this movie:',title_array[movie])\n",
    "        print('\\n')\n",
    "    return None"
   ]
  },
  {
   "cell_type": "code",
   "execution_count": 11,
   "id": "595aaf9d",
   "metadata": {},
   "outputs": [
    {
     "name": "stdout",
     "output_type": "stream",
     "text": [
      "(3, 3706)\n",
      "[2.22431257 2.50249839 1.1854576 ]\n",
      "User 896 , we are 94% sure you will like this movie: Waiting to Exhale (1995)\n",
      "User 896 , we are 98% sure you will like this movie: Roustabout (1964)\n",
      "User 896 , we are 100% sure you will like this movie: His Girl Friday (1940)\n",
      "\n",
      "\n",
      "User 1432 , we are 69% sure you will like this movie: Rock, The (1996)\n",
      "User 1432 , we are 100% sure you will like this movie: Pillow Book, The (1995)\n",
      "User 1432 , we are 73% sure you will like this movie: Mrs. Doubtfire (1993)\n",
      "\n",
      "\n",
      "User 5329 , we are 91% sure you will like this movie: Mary Poppins (1964)\n",
      "User 5329 , we are 96% sure you will like this movie: Wild Wild West (1999)\n",
      "User 5329 , we are 100% sure you will like this movie: Wayne's World (1992)\n",
      "\n",
      "\n"
     ]
    }
   ],
   "source": [
    "recommend_me([896,1432,5329])"
   ]
  },
  {
   "cell_type": "code",
   "execution_count": null,
   "id": "0f0f70da",
   "metadata": {},
   "outputs": [],
   "source": []
  }
 ],
 "metadata": {
  "kernelspec": {
   "display_name": "Python 3 (ipykernel)",
   "language": "python",
   "name": "python3"
  },
  "language_info": {
   "codemirror_mode": {
    "name": "ipython",
    "version": 3
   },
   "file_extension": ".py",
   "mimetype": "text/x-python",
   "name": "python",
   "nbconvert_exporter": "python",
   "pygments_lexer": "ipython3",
   "version": "3.10.9"
  }
 },
 "nbformat": 4,
 "nbformat_minor": 5
}
